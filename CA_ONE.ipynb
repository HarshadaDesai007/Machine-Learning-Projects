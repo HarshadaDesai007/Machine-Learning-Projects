{
  "nbformat": 4,
  "nbformat_minor": 0,
  "metadata": {
    "colab": {
      "name": "CA_ONE.ipynb",
      "provenance": [],
      "collapsed_sections": [],
      "authorship_tag": "ABX9TyOxWop+/sBuFbVHYv4Zw/iT",
      "include_colab_link": true
    },
    "kernelspec": {
      "name": "python3",
      "display_name": "Python 3"
    }
  },
  "cells": [
    {
      "cell_type": "markdown",
      "metadata": {
        "id": "view-in-github",
        "colab_type": "text"
      },
      "source": [
        "<a href=\"https://colab.research.google.com/github/HarshadaDesai007/MachineLearningNotebooks/blob/master/CA_ONE.ipynb\" target=\"_parent\"><img src=\"https://colab.research.google.com/assets/colab-badge.svg\" alt=\"Open In Colab\"/></a>"
      ]
    },
    {
      "cell_type": "markdown",
      "metadata": {
        "id": "n9urHsDfFGgw"
      },
      "source": [
        "# Domain Validation"
      ]
    },
    {
      "cell_type": "code",
      "metadata": {
        "id": "DHRWdJDDV_D_",
        "colab": {
          "base_uri": "https://localhost:8080/"
        },
        "outputId": "c096a852-1ef9-4b91-91c3-161a63907b48"
      },
      "source": [
        "def InputDetails(InputText):\n",
        "  y = InputText.split(\"\\\\\")\n",
        "  if(len(y)!=2):\n",
        "    print(\"Invalid Input!Please try again\")\n",
        "    main()\n",
        "\n",
        "  else:\n",
        "    Domain = y[0]\n",
        "    Username = y[1]\n",
        "    print(\"Domain : {}\".format(Domain))\n",
        "    print(\"Username : {}\".format(Username))\n",
        "\n",
        "def main():\n",
        "  print(\"#####################################################\")\n",
        "  print(\"WELCOME TO THE DBS CONSOLE\")\n",
        "  print(\"#####################################################\")\n",
        "  test_input = input(\"Please enter your name \")\n",
        "  InputDetails(test_input)\n",
        "\n",
        "main()\n"
      ],
      "execution_count": null,
      "outputs": [
        {
          "output_type": "stream",
          "text": [
            "#####################################################\n",
            "WELCOME TO THE DBS CONSOLE\n",
            "#####################################################\n",
            "Please enter your name DBS\\10553979\n",
            "['DBS', '10553979']\n",
            "Domain : DBS\n",
            "Username : 10553979\n"
          ],
          "name": "stdout"
        }
      ]
    },
    {
      "cell_type": "markdown",
      "metadata": {
        "id": "Tt8ik_xXK_pq"
      },
      "source": [
        "# Frequency of elements"
      ]
    },
    {
      "cell_type": "code",
      "metadata": {
        "colab": {
          "base_uri": "https://localhost:8080/"
        },
        "id": "HIz4eJvjDQVh",
        "outputId": "47155b6a-35d1-4445-b71d-482ff3fb96dc"
      },
      "source": [
        "n = int(input(\"Input the number of elements to be stored in the list \"))\n",
        "print(\"Input {} elements in the list\".format(n))\n",
        "L = []\n",
        "for i in range(n):\n",
        "  L.append(input(f\"elememt - {i}: \"))\n",
        "\n",
        "\n",
        "uniqueEle = sorted(list(set(L)))\n",
        "d = {}\n",
        "for ele in uniqueEle:\n",
        "  d[ele] = 0\n",
        "\n",
        "for ele in L:\n",
        "  d[ele]+=1\n",
        "\n",
        "print(\"The frequency of all elements in the list is \")\n",
        "for key,values in d.items():\n",
        "  print(\"{} occurs {} times\".format(key,values))   \n",
        "\n"
      ],
      "execution_count": null,
      "outputs": [
        {
          "output_type": "stream",
          "text": [
            "Input the number of elements to be stored in the list 5\n",
            "Input 5 elements in the list\n",
            "elememt - 0: 1\n",
            "elememt - 1: 1\n",
            "elememt - 2: 2\n",
            "elememt - 3: 4\n",
            "elememt - 4: 5\n",
            "The frequency of all elements in the list is \n",
            "1 occurs 2 times\n",
            "2 occurs 1 times\n",
            "4 occurs 1 times\n",
            "5 occurs 1 times\n"
          ],
          "name": "stdout"
        }
      ]
    },
    {
      "cell_type": "markdown",
      "metadata": {
        "id": "nx2xVzhfy8yP"
      },
      "source": [
        "## Salary Slip Program Final\r\n"
      ]
    },
    {
      "cell_type": "code",
      "metadata": {
        "colab": {
          "base_uri": "https://localhost:8080/"
        },
        "id": "zP9GBoG7nuek",
        "outputId": "01f37ef0-4513-4ae5-d718-f9486cab7b0d"
      },
      "source": [
        "def getHourDetails():\r\n",
        "  normalHrs = float(input(\"Enter the number of hours the employee has worked : \"))\r\n",
        "  overtimeHrs = float(input(\"Enter the number of overtime hours(if any) :\"))\r\n",
        "\r\n",
        "  return normalHrs,overtimeHrs\r\n",
        "\r\n",
        "def calculatePay(hrs,overtimehrs):\r\n",
        "  normalPayRate = float(input(\"Enter the normal Pay rate: \"))\r\n",
        "  overtimePayRate = normalPayRate * 1.5\r\n",
        "  normalPay = hrs * normalPayRate\r\n",
        "  overtimePay = overtimehrs * overtimePayRate\r\n",
        "  normalDeductions = normalPay * 0.20\r\n",
        "  overtimeDeductions = overtimePay * 0.50\r\n",
        "  return normalPay,overtimePay,normalDeductions,overtimeDeductions\r\n",
        "\r\n",
        "def paySlip(nhours,ohours,PayNormal,PayOvertime,DeductionsNormal,DeductionsOvertime):\r\n",
        "  from tabulate import tabulate\r\n",
        "  print (\" \"*20 + \"Earnings\" + \" \"*10+ \"Deductions\")\r\n",
        "  table = [[\" \",\"Hours\",\"Rate\",\"Total\",\"\",\"\"],['Hours (normal)',nhours,\"10.50\",PayNormal,\"Tax @ 20%\",DeductionsNormal],['Hours (overtime)',ohours,\"15.75\",PayOvertime,\"Tax @ 50%\",DeductionsOvertime]]\r\n",
        "  print(tabulate(table,tablefmt=\"plain\"))\r\n",
        "  totalPay = PayNormal+PayOvertime\r\n",
        "  totalDeductions = DeductionsNormal+DeductionsOvertime\r\n",
        "  netPay = totalPay - totalDeductions\r\n",
        "  print(\" \")\r\n",
        "  print(\" \"*10 + \"Total Pay {}\".format(totalPay))\r\n",
        "  print(\" \"*10 + \"Total Deductions {}\".format(totalDeductions))\r\n",
        "  print(\" \"*10 + \"Net Pay {}\".format(netPay))\r\n",
        "\r\n",
        "def getDate():\r\n",
        "  import datetime\r\n",
        "  inputDate = input(\"Enter the date in format 'dd/mm/yy' : \")\r\n",
        "  day,month,year = inputDate.split('/')\r\n",
        "  isValidDate = True\r\n",
        "  try :\r\n",
        "    datetime.datetime(int(year),int(month),int(day))\r\n",
        "  except ValueError :\r\n",
        "    isValidDate = False\r\n",
        "  if (isValidDate) :\r\n",
        "    print (\"Input date is valid ..\")\r\n",
        "  \r\n",
        "  else :\r\n",
        "    print (\"Input date is not valid..Please enter again\")\r\n",
        "    inputDate = getDate()\r\n",
        "\r\n",
        "  return inputDate    \r\n",
        "  \r\n",
        "def main():\r\n",
        "  name = input(\"Enter name:  \")\r\n",
        "  number = input(\"Enter Employee Number: \")\r\n",
        "  weekDate = getDate()\r\n",
        "  \"\"\"c = checkValidDate(weekDate)\r\n",
        "  if (c):\r\n",
        "    print(\"Date is valid\")\r\n",
        "  else:\r\n",
        "    print(\"Date is invalid\")\"\"\"\r\n",
        "  nhrs,ohrs = getHourDetails()\r\n",
        "  nPay,oPay,nDeductions,oDeductions = calculatePay(nhrs,ohrs)\r\n",
        "\r\n",
        "  print(\" \")\r\n",
        "  print (' '*40 + \"PAYSLIP\")\r\n",
        "  print(f\"WEEK ENDING {weekDate}\")\r\n",
        "  print(f\"Employee {name}\")\r\n",
        "  print(f\"Employee Number {number} \")\r\n",
        "  paySlip(nhrs,ohrs,nPay,oPay,nDeductions,oDeductions)\r\n",
        "\r\n",
        "main()"
      ],
      "execution_count": null,
      "outputs": [
        {
          "output_type": "stream",
          "text": [
            "Enter name:  Tom Riddle\n",
            "Enter Employee Number: 122\n",
            "Enter the date in format 'dd/mm/yy' : 24/18/2020\n",
            "Input date is not valid..Please enter again\n",
            "Enter the date in format 'dd/mm/yy' : 26/12/2020\n",
            "Input date is valid ..\n",
            "Enter the number of hours the employee has worked : 37.5\n",
            "Enter the number of overtime hours(if any) :0\n",
            "Enter the normal Pay rate: 10.50\n",
            " \n",
            "                                        PAYSLIP\n",
            "WEEK ENDING 26/12/2020\n",
            "Employee Tom Riddle\n",
            "Employee Number 122 \n",
            "                    Earnings          Deductions\n",
            "                  Hours  Rate   Total\n",
            "Hours (normal)    37.5   10.50  393.75  Tax @ 20%  78.75\n",
            "Hours (overtime)  0.0    15.75  0.0     Tax @ 50%  0.0\n",
            " \n",
            "          Total Pay 393.75\n",
            "          Total Deductions 78.75\n",
            "          Net Pay 315.0\n"
          ],
          "name": "stdout"
        }
      ]
    },
    {
      "cell_type": "markdown",
      "metadata": {
        "id": "UVKtSLatrs_-"
      },
      "source": [
        "### MYPY Phone Book System"
      ]
    },
    {
      "cell_type": "code",
      "metadata": {
        "colab": {
          "base_uri": "https://localhost:8080/"
        },
        "id": "wvGRqh7GL-LV",
        "outputId": "7be760fb-dc52-4d2c-8c1c-5f9b484e4b26"
      },
      "source": [
        "def searchName(inputName,d):\n",
        "  if inputName in d:\n",
        "    return True\n",
        "  else :\n",
        "    return False\n",
        "\n",
        "import re\n",
        "def isValid(s): \n",
        "    Pattern = re.compile(\"(0/91)?[7-9][0-9]{9}\") \n",
        "    return Pattern.match(s)     \n",
        "\n",
        "\n",
        "def addEntry(d):\n",
        "  print(\"Add an entry into the directory\")\n",
        "  name = input(\"Enter name : \")\n",
        "  number = input(\"Enter the phone number : \")\n",
        "  if (isValid(number)):\n",
        "    d[name] = number\n",
        "    print(\"Number added successfully!\")\n",
        "    print(d)\n",
        "  \n",
        "    \n",
        "def deleteEntry(d):\n",
        "  print(\"Remove Name and Number\")\n",
        "  name = input(\"Name: \")\n",
        "  if name in d:\n",
        "      del d[name]\n",
        "      print(\"Entry deleted from the directory!\")\n",
        "      print(d)\n",
        "  else:\n",
        "    print(name, \"was not found\")\n",
        "\n",
        "def updateEntry(d):\n",
        "  name =input(\"Enter the name of the record to update \")\n",
        "  result = searchName(name,d)\n",
        "  newNumber = input(\"Enter new number \")\n",
        "  del d[name]\n",
        "  d[name] = newNumber \n",
        "  print(\"Number updated successfully!\")\n",
        "  print(d)\n",
        "   \n",
        "\n",
        "def LookupNumber(d):\n",
        "  print(\"Lookup Number\")\n",
        "  name = input(\"Name: \")\n",
        "  if name in d:\n",
        "    print(\"The number is\", d[name])\n",
        "  else:\n",
        "    print(name, \"was not found\")\n",
        "  \n",
        "\n",
        "def menu():\n",
        "    print(\"######################\")\n",
        "    print(\"MYPY PHONE BOOK\")\n",
        "    print(\"######################\")\n",
        "    print('1: Add Entry')\n",
        "    print('2: Delete Entry')\n",
        "    print('3: Update Entry')\n",
        "    print('4. Lookup Number')\n",
        "    print('5. QUIT')\n",
        "    print()\n",
        "\n",
        "directory = {}\n",
        "choice = 0\n",
        "menu()\n",
        "while choice != 5:\n",
        "  choice = int(input(\"Type in a number (1-5): \"))\n",
        "  if choice == 1:\n",
        "    addEntry(directory)\n",
        "    \n",
        "\n",
        "  elif choice == 2:\n",
        "    deleteEntry(directory)\n",
        "\n",
        "  elif choice == 3:\n",
        "    updateEntry(directory)\n",
        "\n",
        "  elif choice == 4:\n",
        "    LookupNumber(directory)\n",
        "\n",
        "  elif choice != 5:\n",
        "    menu()\n",
        "  "
      ],
      "execution_count": null,
      "outputs": [
        {
          "output_type": "stream",
          "text": [
            "######################\n",
            "MYPY PHONE BOOK\n",
            "######################\n",
            "1: Add Entry\n",
            "2: Delete Entry\n",
            "3: Update Entry\n",
            "4. Lookup Number\n",
            "5. QUIT\n",
            "\n",
            "Type in a number (1-5): 1\n",
            "Add an entry into the directory\n",
            "Enter name : David\n",
            "Enter the phone number : 919960077873\n",
            "Number added successfully!\n",
            "{'David': '919960077873'}\n",
            "Type in a number (1-5): 2\n",
            "Remove Name and Number\n",
            "Name: Joey\n",
            "Joey was not found\n",
            "Type in a number (1-5): 5\n"
          ],
          "name": "stdout"
        }
      ]
    }
  ]
}