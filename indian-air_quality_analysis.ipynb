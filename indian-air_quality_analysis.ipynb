{
 "cells": [
  {
   "cell_type": "markdown",
   "metadata": {},
   "source": [
    "## Indian Air Quality Analysis\n",
    "\n",
    "The dataset consists primarily 5 different types pollutants measured over the years in different states and cities of India.The pollutants are so2,no2,rspm,spm and pm2_5.Where SO2 and NO2 are harmful gaseous emmissions; rspm, spm and pm2_5 come under susended air pollutants.\n",
    "\n",
    "\n",
    "\n"
   ]
  },
  {
   "cell_type": "code",
   "execution_count": 31,
   "metadata": {},
   "outputs": [],
   "source": [
    "import pandas as pd\n",
    "import numpy as np \n",
    "import matplotlib.pyplot as plt\n",
    "%matplotlib inline"
   ]
  },
  {
   "cell_type": "code",
   "execution_count": 32,
   "metadata": {},
   "outputs": [
    {
     "name": "stderr",
     "output_type": "stream",
     "text": [
      "/opt/conda/lib/python3.7/site-packages/IPython/core/interactiveshell.py:3063: DtypeWarning: Columns (0) have mixed types.Specify dtype option on import or set low_memory=False.\n",
      "  interactivity=interactivity, compiler=compiler, result=result)\n"
     ]
    }
   ],
   "source": [
    "df = pd.read_csv('../input/india-air-quality-data/data.csv',encoding = 'unicode_escape')"
   ]
  },
  {
   "cell_type": "code",
   "execution_count": 33,
   "metadata": {},
   "outputs": [
    {
     "data": {
      "text/html": [
       "<div>\n",
       "<style scoped>\n",
       "    .dataframe tbody tr th:only-of-type {\n",
       "        vertical-align: middle;\n",
       "    }\n",
       "\n",
       "    .dataframe tbody tr th {\n",
       "        vertical-align: top;\n",
       "    }\n",
       "\n",
       "    .dataframe thead th {\n",
       "        text-align: right;\n",
       "    }\n",
       "</style>\n",
       "<table border=\"1\" class=\"dataframe\">\n",
       "  <thead>\n",
       "    <tr style=\"text-align: right;\">\n",
       "      <th></th>\n",
       "      <th>stn_code</th>\n",
       "      <th>sampling_date</th>\n",
       "      <th>state</th>\n",
       "      <th>location</th>\n",
       "      <th>agency</th>\n",
       "      <th>type</th>\n",
       "      <th>so2</th>\n",
       "      <th>no2</th>\n",
       "      <th>rspm</th>\n",
       "      <th>spm</th>\n",
       "      <th>location_monitoring_station</th>\n",
       "      <th>pm2_5</th>\n",
       "      <th>date</th>\n",
       "    </tr>\n",
       "  </thead>\n",
       "  <tbody>\n",
       "    <tr>\n",
       "      <th>0</th>\n",
       "      <td>150</td>\n",
       "      <td>February - M021990</td>\n",
       "      <td>Andhra Pradesh</td>\n",
       "      <td>Hyderabad</td>\n",
       "      <td>NaN</td>\n",
       "      <td>Residential, Rural and other Areas</td>\n",
       "      <td>4.8</td>\n",
       "      <td>17.4</td>\n",
       "      <td>NaN</td>\n",
       "      <td>NaN</td>\n",
       "      <td>NaN</td>\n",
       "      <td>NaN</td>\n",
       "      <td>1990-02-01</td>\n",
       "    </tr>\n",
       "    <tr>\n",
       "      <th>1</th>\n",
       "      <td>151</td>\n",
       "      <td>February - M021990</td>\n",
       "      <td>Andhra Pradesh</td>\n",
       "      <td>Hyderabad</td>\n",
       "      <td>NaN</td>\n",
       "      <td>Industrial Area</td>\n",
       "      <td>3.1</td>\n",
       "      <td>7.0</td>\n",
       "      <td>NaN</td>\n",
       "      <td>NaN</td>\n",
       "      <td>NaN</td>\n",
       "      <td>NaN</td>\n",
       "      <td>1990-02-01</td>\n",
       "    </tr>\n",
       "    <tr>\n",
       "      <th>2</th>\n",
       "      <td>152</td>\n",
       "      <td>February - M021990</td>\n",
       "      <td>Andhra Pradesh</td>\n",
       "      <td>Hyderabad</td>\n",
       "      <td>NaN</td>\n",
       "      <td>Residential, Rural and other Areas</td>\n",
       "      <td>6.2</td>\n",
       "      <td>28.5</td>\n",
       "      <td>NaN</td>\n",
       "      <td>NaN</td>\n",
       "      <td>NaN</td>\n",
       "      <td>NaN</td>\n",
       "      <td>1990-02-01</td>\n",
       "    </tr>\n",
       "    <tr>\n",
       "      <th>3</th>\n",
       "      <td>150</td>\n",
       "      <td>March - M031990</td>\n",
       "      <td>Andhra Pradesh</td>\n",
       "      <td>Hyderabad</td>\n",
       "      <td>NaN</td>\n",
       "      <td>Residential, Rural and other Areas</td>\n",
       "      <td>6.3</td>\n",
       "      <td>14.7</td>\n",
       "      <td>NaN</td>\n",
       "      <td>NaN</td>\n",
       "      <td>NaN</td>\n",
       "      <td>NaN</td>\n",
       "      <td>1990-03-01</td>\n",
       "    </tr>\n",
       "    <tr>\n",
       "      <th>4</th>\n",
       "      <td>151</td>\n",
       "      <td>March - M031990</td>\n",
       "      <td>Andhra Pradesh</td>\n",
       "      <td>Hyderabad</td>\n",
       "      <td>NaN</td>\n",
       "      <td>Industrial Area</td>\n",
       "      <td>4.7</td>\n",
       "      <td>7.5</td>\n",
       "      <td>NaN</td>\n",
       "      <td>NaN</td>\n",
       "      <td>NaN</td>\n",
       "      <td>NaN</td>\n",
       "      <td>1990-03-01</td>\n",
       "    </tr>\n",
       "  </tbody>\n",
       "</table>\n",
       "</div>"
      ],
      "text/plain": [
       "  stn_code       sampling_date           state   location agency  \\\n",
       "0      150  February - M021990  Andhra Pradesh  Hyderabad    NaN   \n",
       "1      151  February - M021990  Andhra Pradesh  Hyderabad    NaN   \n",
       "2      152  February - M021990  Andhra Pradesh  Hyderabad    NaN   \n",
       "3      150     March - M031990  Andhra Pradesh  Hyderabad    NaN   \n",
       "4      151     March - M031990  Andhra Pradesh  Hyderabad    NaN   \n",
       "\n",
       "                                 type  so2   no2  rspm  spm  \\\n",
       "0  Residential, Rural and other Areas  4.8  17.4   NaN  NaN   \n",
       "1                     Industrial Area  3.1   7.0   NaN  NaN   \n",
       "2  Residential, Rural and other Areas  6.2  28.5   NaN  NaN   \n",
       "3  Residential, Rural and other Areas  6.3  14.7   NaN  NaN   \n",
       "4                     Industrial Area  4.7   7.5   NaN  NaN   \n",
       "\n",
       "  location_monitoring_station  pm2_5        date  \n",
       "0                         NaN    NaN  1990-02-01  \n",
       "1                         NaN    NaN  1990-02-01  \n",
       "2                         NaN    NaN  1990-02-01  \n",
       "3                         NaN    NaN  1990-03-01  \n",
       "4                         NaN    NaN  1990-03-01  "
      ]
     },
     "execution_count": 33,
     "metadata": {},
     "output_type": "execute_result"
    }
   ],
   "source": [
    "df.head()"
   ]
  },
  {
   "cell_type": "code",
   "execution_count": 34,
   "metadata": {},
   "outputs": [
    {
     "name": "stdout",
     "output_type": "stream",
     "text": [
      "<class 'pandas.core.frame.DataFrame'>\n",
      "RangeIndex: 435742 entries, 0 to 435741\n",
      "Data columns (total 13 columns):\n",
      " #   Column                       Non-Null Count   Dtype  \n",
      "---  ------                       --------------   -----  \n",
      " 0   stn_code                     291665 non-null  object \n",
      " 1   sampling_date                435739 non-null  object \n",
      " 2   state                        435742 non-null  object \n",
      " 3   location                     435739 non-null  object \n",
      " 4   agency                       286261 non-null  object \n",
      " 5   type                         430349 non-null  object \n",
      " 6   so2                          401096 non-null  float64\n",
      " 7   no2                          419509 non-null  float64\n",
      " 8   rspm                         395520 non-null  float64\n",
      " 9   spm                          198355 non-null  float64\n",
      " 10  location_monitoring_station  408251 non-null  object \n",
      " 11  pm2_5                        9314 non-null    float64\n",
      " 12  date                         435735 non-null  object \n",
      "dtypes: float64(5), object(8)\n",
      "memory usage: 43.2+ MB\n"
     ]
    }
   ],
   "source": [
    "df.info()"
   ]
  },
  {
   "cell_type": "markdown",
   "metadata": {},
   "source": [
    "Now, we can immediatly see that there are quite a few nulls in various columns, which need work and first need a closer inspection."
   ]
  },
  {
   "cell_type": "code",
   "execution_count": 35,
   "metadata": {},
   "outputs": [],
   "source": [
    "# Select a project name\n",
    "project='indian-air quality analysis'"
   ]
  },
  {
   "cell_type": "code",
   "execution_count": 36,
   "metadata": {},
   "outputs": [],
   "source": [
    "# Install the Jovian library\n",
    "!pip install jovian --upgrade --quiet"
   ]
  },
  {
   "cell_type": "code",
   "execution_count": 37,
   "metadata": {},
   "outputs": [],
   "source": [
    "import jovian"
   ]
  },
  {
   "cell_type": "code",
   "execution_count": 38,
   "metadata": {},
   "outputs": [
    {
     "data": {
      "application/javascript": [
       "window.require && require([\"base/js/namespace\"],function(Jupyter){Jupyter.notebook.save_checkpoint()})"
      ],
      "text/plain": [
       "<IPython.core.display.Javascript object>"
      ]
     },
     "metadata": {},
     "output_type": "display_data"
    },
    {
     "name": "stdout",
     "output_type": "stream",
     "text": [
      "[jovian] Attempting to save notebook..\u001b[0m\n",
      "[jovian] Detected Kaggle notebook...\u001b[0m\n",
      "[jovian] Uploading notebook to https://jovian.ml/harshadadesai007/indian-air quality analysis\u001b[0m\n"
     ]
    },
    {
     "data": {
      "application/javascript": [
       "\n",
       "    require([\"base/js/namespace\"],function(Jupyter) {\n",
       "        var nbJson = JSON.stringify(Jupyter.notebook.toJSON());\n",
       "\n",
       "        console.log(\"[jovian] Extracted notebook JSON:\");\n",
       "        console.log(nbJson);\n",
       "\n",
       "        function jvnLog (data) {\n",
       "          console.log(\"Result from jovian.commit:\");\n",
       "          if (data.content.text) {\n",
       "              var result = JSON.parse(data.content.text.trim());\n",
       "              var msg = result['msg'];\n",
       "              var err = result['err'];\n",
       "              if (msg) {\n",
       "                  element.text(\"Committed successfully: \" + msg)\n",
       "              } else {\n",
       "                  alert(\"Notebook commit failed. Error: \" + (err || \"Unknown\"))\n",
       "              }\n",
       "          }\n",
       "          \n",
       "        };\n",
       "        \n",
       "        var pythonCode = `\n",
       "from contextlib import redirect_stdout, redirect_stderr\n",
       "from io import StringIO\n",
       "import json\n",
       " \n",
       "with open(\"indian-air quality analysis.ipynb\", 'w') as f:\n",
       "    f.write(r\"\"\"${nbJson}\"\"\")\n",
       "\n",
       "jvn_update = StringIO()\n",
       "jvn_update_err = StringIO()\n",
       "with redirect_stdout(jvn_update), redirect_stderr(jvn_update_err):\n",
       "    from jovian import commit\n",
       "\n",
       "jvn_f_out = StringIO()\n",
       "jvn_f_err = StringIO()\n",
       "with redirect_stdout(jvn_f_out), redirect_stderr(jvn_f_err):\n",
       "    jvn_msg = jovian.commit(message=None, files=[], outputs=[], environment='auto', privacy='auto', filename='indian-air quality analysis.ipynb', project='indian-air quality analysis', new_project=None)\n",
       "\n",
       "print(json.dumps({'msg': jvn_msg, 'err': jvn_f_err.getvalue(), 'update': jvn_update.getvalue()}))\n",
       "        `;\n",
       "\n",
       "        console.log(\"Invoking jovian.commit\")\n",
       "        // console.log(pythonCode)\n",
       "\n",
       "        Jupyter.notebook.kernel.execute(pythonCode, { iopub: { output: jvnLog }});\n",
       "    });"
      ],
      "text/plain": [
       "<IPython.core.display.Javascript object>"
      ]
     },
     "metadata": {},
     "output_type": "display_data"
    }
   ],
   "source": [
    "jovian.commit(project=project)"
   ]
  },
  {
   "cell_type": "markdown",
   "metadata": {},
   "source": [
    "`jovian.commit` uploads the notebook to your [Jovian.ml](https://jovian.ml) account, captures the Python environment and creates a shareable link for your notebook as shown above. You can use this link to share your work and let anyone (including you) run your notebooks and reproduce your work."
   ]
  },
  {
   "cell_type": "markdown",
   "metadata": {},
   "source": [
    "## Data Preparation & Cleaning\n",
    "\n",
    "Clearly there are lots of null values, noticeably in stn_code,agency, both of which should therefore be not included further in the analysis.\n",
    "\n",
    "    Intuitively, these two columns will hardly add much value to analysis.\n",
    "\n",
    "    Now, focusing on the categorical variables, we are left with location_monitoring_station which consists of considerable nulls (approximately 27000).\n",
    "\n",
    "    Out of the two dates columns, immediate attention goes to sampling date which has different formats within, highlighting some data input issues."
   ]
  },
  {
   "cell_type": "code",
   "execution_count": 39,
   "metadata": {},
   "outputs": [
    {
     "name": "stdout",
     "output_type": "stream",
     "text": [
      "<class 'pandas.core.frame.DataFrame'>\n",
      "RangeIndex: 435742 entries, 0 to 435741\n",
      "Data columns (total 9 columns):\n",
      " #   Column    Non-Null Count   Dtype  \n",
      "---  ------    --------------   -----  \n",
      " 0   state     435742 non-null  object \n",
      " 1   location  435739 non-null  object \n",
      " 2   type      430349 non-null  object \n",
      " 3   so2       401096 non-null  float64\n",
      " 4   no2       419509 non-null  float64\n",
      " 5   rspm      395520 non-null  float64\n",
      " 6   spm       198355 non-null  float64\n",
      " 7   pm2_5     9314 non-null    float64\n",
      " 8   date      435735 non-null  object \n",
      "dtypes: float64(5), object(4)\n",
      "memory usage: 29.9+ MB\n"
     ]
    },
    {
     "data": {
      "text/html": [
       "<div>\n",
       "<style scoped>\n",
       "    .dataframe tbody tr th:only-of-type {\n",
       "        vertical-align: middle;\n",
       "    }\n",
       "\n",
       "    .dataframe tbody tr th {\n",
       "        vertical-align: top;\n",
       "    }\n",
       "\n",
       "    .dataframe thead th {\n",
       "        text-align: right;\n",
       "    }\n",
       "</style>\n",
       "<table border=\"1\" class=\"dataframe\">\n",
       "  <thead>\n",
       "    <tr style=\"text-align: right;\">\n",
       "      <th></th>\n",
       "      <th>state</th>\n",
       "      <th>location</th>\n",
       "      <th>type</th>\n",
       "      <th>so2</th>\n",
       "      <th>no2</th>\n",
       "      <th>rspm</th>\n",
       "      <th>spm</th>\n",
       "      <th>pm2_5</th>\n",
       "      <th>date</th>\n",
       "    </tr>\n",
       "  </thead>\n",
       "  <tbody>\n",
       "    <tr>\n",
       "      <th>0</th>\n",
       "      <td>Andhra Pradesh</td>\n",
       "      <td>Hyderabad</td>\n",
       "      <td>Residential, Rural and other Areas</td>\n",
       "      <td>4.8</td>\n",
       "      <td>17.4</td>\n",
       "      <td>NaN</td>\n",
       "      <td>NaN</td>\n",
       "      <td>NaN</td>\n",
       "      <td>1990-02-01</td>\n",
       "    </tr>\n",
       "    <tr>\n",
       "      <th>1</th>\n",
       "      <td>Andhra Pradesh</td>\n",
       "      <td>Hyderabad</td>\n",
       "      <td>Industrial Area</td>\n",
       "      <td>3.1</td>\n",
       "      <td>7.0</td>\n",
       "      <td>NaN</td>\n",
       "      <td>NaN</td>\n",
       "      <td>NaN</td>\n",
       "      <td>1990-02-01</td>\n",
       "    </tr>\n",
       "    <tr>\n",
       "      <th>2</th>\n",
       "      <td>Andhra Pradesh</td>\n",
       "      <td>Hyderabad</td>\n",
       "      <td>Residential, Rural and other Areas</td>\n",
       "      <td>6.2</td>\n",
       "      <td>28.5</td>\n",
       "      <td>NaN</td>\n",
       "      <td>NaN</td>\n",
       "      <td>NaN</td>\n",
       "      <td>1990-02-01</td>\n",
       "    </tr>\n",
       "    <tr>\n",
       "      <th>3</th>\n",
       "      <td>Andhra Pradesh</td>\n",
       "      <td>Hyderabad</td>\n",
       "      <td>Residential, Rural and other Areas</td>\n",
       "      <td>6.3</td>\n",
       "      <td>14.7</td>\n",
       "      <td>NaN</td>\n",
       "      <td>NaN</td>\n",
       "      <td>NaN</td>\n",
       "      <td>1990-03-01</td>\n",
       "    </tr>\n",
       "    <tr>\n",
       "      <th>4</th>\n",
       "      <td>Andhra Pradesh</td>\n",
       "      <td>Hyderabad</td>\n",
       "      <td>Industrial Area</td>\n",
       "      <td>4.7</td>\n",
       "      <td>7.5</td>\n",
       "      <td>NaN</td>\n",
       "      <td>NaN</td>\n",
       "      <td>NaN</td>\n",
       "      <td>1990-03-01</td>\n",
       "    </tr>\n",
       "  </tbody>\n",
       "</table>\n",
       "</div>"
      ],
      "text/plain": [
       "            state   location                                type  so2   no2  \\\n",
       "0  Andhra Pradesh  Hyderabad  Residential, Rural and other Areas  4.8  17.4   \n",
       "1  Andhra Pradesh  Hyderabad                     Industrial Area  3.1   7.0   \n",
       "2  Andhra Pradesh  Hyderabad  Residential, Rural and other Areas  6.2  28.5   \n",
       "3  Andhra Pradesh  Hyderabad  Residential, Rural and other Areas  6.3  14.7   \n",
       "4  Andhra Pradesh  Hyderabad                     Industrial Area  4.7   7.5   \n",
       "\n",
       "   rspm  spm  pm2_5        date  \n",
       "0   NaN  NaN    NaN  1990-02-01  \n",
       "1   NaN  NaN    NaN  1990-02-01  \n",
       "2   NaN  NaN    NaN  1990-02-01  \n",
       "3   NaN  NaN    NaN  1990-03-01  \n",
       "4   NaN  NaN    NaN  1990-03-01  "
      ]
     },
     "execution_count": 39,
     "metadata": {},
     "output_type": "execute_result"
    }
   ],
   "source": [
    "df.drop(['stn_code','agency','sampling_date','location_monitoring_station'],axis=1,inplace=True)\n",
    "df.info()\n",
    "df.head()"
   ]
  },
  {
   "cell_type": "markdown",
   "metadata": {},
   "source": [
    "Fixing the missing values firstly for all the pollutants.\n",
    "We will consider taking mean for all the pollutants columns and make use of the Imputer class\n"
   ]
  },
  {
   "cell_type": "code",
   "execution_count": 40,
   "metadata": {},
   "outputs": [
    {
     "name": "stdout",
     "output_type": "stream",
     "text": [
      "<class 'pandas.core.frame.DataFrame'>\n",
      "RangeIndex: 435742 entries, 0 to 435741\n",
      "Data columns (total 9 columns):\n",
      " #   Column    Non-Null Count   Dtype  \n",
      "---  ------    --------------   -----  \n",
      " 0   state     435742 non-null  object \n",
      " 1   location  435739 non-null  object \n",
      " 2   type      430349 non-null  object \n",
      " 3   so2       435742 non-null  float64\n",
      " 4   no2       435742 non-null  float64\n",
      " 5   rspm      435742 non-null  float64\n",
      " 6   spm       435742 non-null  float64\n",
      " 7   pm2_5     435742 non-null  float64\n",
      " 8   date      435735 non-null  object \n",
      "dtypes: float64(5), object(4)\n",
      "memory usage: 29.9+ MB\n"
     ]
    },
    {
     "data": {
      "text/html": [
       "<div>\n",
       "<style scoped>\n",
       "    .dataframe tbody tr th:only-of-type {\n",
       "        vertical-align: middle;\n",
       "    }\n",
       "\n",
       "    .dataframe tbody tr th {\n",
       "        vertical-align: top;\n",
       "    }\n",
       "\n",
       "    .dataframe thead th {\n",
       "        text-align: right;\n",
       "    }\n",
       "</style>\n",
       "<table border=\"1\" class=\"dataframe\">\n",
       "  <thead>\n",
       "    <tr style=\"text-align: right;\">\n",
       "      <th></th>\n",
       "      <th>state</th>\n",
       "      <th>location</th>\n",
       "      <th>type</th>\n",
       "      <th>so2</th>\n",
       "      <th>no2</th>\n",
       "      <th>rspm</th>\n",
       "      <th>spm</th>\n",
       "      <th>pm2_5</th>\n",
       "      <th>date</th>\n",
       "    </tr>\n",
       "  </thead>\n",
       "  <tbody>\n",
       "    <tr>\n",
       "      <th>0</th>\n",
       "      <td>Andhra Pradesh</td>\n",
       "      <td>Hyderabad</td>\n",
       "      <td>Residential, Rural and other Areas</td>\n",
       "      <td>4.8</td>\n",
       "      <td>17.4</td>\n",
       "      <td>108.832784</td>\n",
       "      <td>220.78348</td>\n",
       "      <td>40.791467</td>\n",
       "      <td>1990-02-01</td>\n",
       "    </tr>\n",
       "    <tr>\n",
       "      <th>1</th>\n",
       "      <td>Andhra Pradesh</td>\n",
       "      <td>Hyderabad</td>\n",
       "      <td>Industrial Area</td>\n",
       "      <td>3.1</td>\n",
       "      <td>7.0</td>\n",
       "      <td>108.832784</td>\n",
       "      <td>220.78348</td>\n",
       "      <td>40.791467</td>\n",
       "      <td>1990-02-01</td>\n",
       "    </tr>\n",
       "    <tr>\n",
       "      <th>2</th>\n",
       "      <td>Andhra Pradesh</td>\n",
       "      <td>Hyderabad</td>\n",
       "      <td>Residential, Rural and other Areas</td>\n",
       "      <td>6.2</td>\n",
       "      <td>28.5</td>\n",
       "      <td>108.832784</td>\n",
       "      <td>220.78348</td>\n",
       "      <td>40.791467</td>\n",
       "      <td>1990-02-01</td>\n",
       "    </tr>\n",
       "    <tr>\n",
       "      <th>3</th>\n",
       "      <td>Andhra Pradesh</td>\n",
       "      <td>Hyderabad</td>\n",
       "      <td>Residential, Rural and other Areas</td>\n",
       "      <td>6.3</td>\n",
       "      <td>14.7</td>\n",
       "      <td>108.832784</td>\n",
       "      <td>220.78348</td>\n",
       "      <td>40.791467</td>\n",
       "      <td>1990-03-01</td>\n",
       "    </tr>\n",
       "    <tr>\n",
       "      <th>4</th>\n",
       "      <td>Andhra Pradesh</td>\n",
       "      <td>Hyderabad</td>\n",
       "      <td>Industrial Area</td>\n",
       "      <td>4.7</td>\n",
       "      <td>7.5</td>\n",
       "      <td>108.832784</td>\n",
       "      <td>220.78348</td>\n",
       "      <td>40.791467</td>\n",
       "      <td>1990-03-01</td>\n",
       "    </tr>\n",
       "  </tbody>\n",
       "</table>\n",
       "</div>"
      ],
      "text/plain": [
       "            state   location                                type  so2   no2  \\\n",
       "0  Andhra Pradesh  Hyderabad  Residential, Rural and other Areas  4.8  17.4   \n",
       "1  Andhra Pradesh  Hyderabad                     Industrial Area  3.1   7.0   \n",
       "2  Andhra Pradesh  Hyderabad  Residential, Rural and other Areas  6.2  28.5   \n",
       "3  Andhra Pradesh  Hyderabad  Residential, Rural and other Areas  6.3  14.7   \n",
       "4  Andhra Pradesh  Hyderabad                     Industrial Area  4.7   7.5   \n",
       "\n",
       "         rspm        spm      pm2_5        date  \n",
       "0  108.832784  220.78348  40.791467  1990-02-01  \n",
       "1  108.832784  220.78348  40.791467  1990-02-01  \n",
       "2  108.832784  220.78348  40.791467  1990-02-01  \n",
       "3  108.832784  220.78348  40.791467  1990-03-01  \n",
       "4  108.832784  220.78348  40.791467  1990-03-01  "
      ]
     },
     "execution_count": 40,
     "metadata": {},
     "output_type": "execute_result"
    }
   ],
   "source": [
    "from sklearn.impute import SimpleImputer\n",
    "imputer = SimpleImputer(missing_values = np.nan, strategy = 'mean')\n",
    "imputer = imputer.fit(df.iloc[:, 3:8].values)\n",
    "df.iloc[:,3:8] = imputer.transform(df.iloc[:, 3:8].values)\n",
    "df.info()\n",
    "df.head()"
   ]
  },
  {
   "cell_type": "code",
   "execution_count": 41,
   "metadata": {},
   "outputs": [
    {
     "data": {
      "text/plain": [
       "count                                 430349\n",
       "unique                                    10\n",
       "top       Residential, Rural and other Areas\n",
       "freq                                  179014\n",
       "Name: type, dtype: object"
      ]
     },
     "execution_count": 41,
     "metadata": {},
     "output_type": "execute_result"
    }
   ],
   "source": [
    "df['type'].describe()"
   ]
  },
  {
   "cell_type": "markdown",
   "metadata": {},
   "source": [
    "Let us now fix the missing values in the column 'type'. With 10 Unique labels, we will fill the null values by the most common type, which is 'Residential, Rural and Other Areas'"
   ]
  },
  {
   "cell_type": "code",
   "execution_count": 42,
   "metadata": {},
   "outputs": [
    {
     "name": "stdout",
     "output_type": "stream",
     "text": [
      "<class 'pandas.core.frame.DataFrame'>\n",
      "RangeIndex: 435742 entries, 0 to 435741\n",
      "Data columns (total 9 columns):\n",
      " #   Column    Non-Null Count   Dtype  \n",
      "---  ------    --------------   -----  \n",
      " 0   state     435742 non-null  object \n",
      " 1   location  435739 non-null  object \n",
      " 2   type      435742 non-null  object \n",
      " 3   so2       435742 non-null  float64\n",
      " 4   no2       435742 non-null  float64\n",
      " 5   rspm      435742 non-null  float64\n",
      " 6   spm       435742 non-null  float64\n",
      " 7   pm2_5     435742 non-null  float64\n",
      " 8   date      435735 non-null  object \n",
      "dtypes: float64(5), object(4)\n",
      "memory usage: 29.9+ MB\n"
     ]
    }
   ],
   "source": [
    "common_value='Residential,Rural and other Areas'\n",
    "df['type']=df['type'].fillna(common_value)\n",
    "df.info()"
   ]
  },
  {
   "cell_type": "markdown",
   "metadata": {},
   "source": [
    "\n",
    "\n",
    "We have fixed the missing values now and made the dataset much shorter to focus on the key variables. We should start with some preliminary visualisations, starting foremost with those of the pollutants\n",
    "\n"
   ]
  },
  {
   "cell_type": "markdown",
   "metadata": {},
   "source": [
    "Let's save and commit our work before continuing."
   ]
  },
  {
   "cell_type": "code",
   "execution_count": 43,
   "metadata": {},
   "outputs": [],
   "source": [
    "import jovian"
   ]
  },
  {
   "cell_type": "code",
   "execution_count": 44,
   "metadata": {},
   "outputs": [
    {
     "data": {
      "application/javascript": [
       "window.require && require([\"base/js/namespace\"],function(Jupyter){Jupyter.notebook.save_checkpoint()})"
      ],
      "text/plain": [
       "<IPython.core.display.Javascript object>"
      ]
     },
     "metadata": {},
     "output_type": "display_data"
    },
    {
     "name": "stdout",
     "output_type": "stream",
     "text": [
      "[jovian] Attempting to save notebook..\u001b[0m\n",
      "[jovian] Detected Kaggle notebook...\u001b[0m\n",
      "[jovian] Uploading notebook to https://jovian.ml/harshadadesai007/indian-air quality analysis\u001b[0m\n"
     ]
    },
    {
     "data": {
      "application/javascript": [
       "\n",
       "    require([\"base/js/namespace\"],function(Jupyter) {\n",
       "        var nbJson = JSON.stringify(Jupyter.notebook.toJSON());\n",
       "\n",
       "        console.log(\"[jovian] Extracted notebook JSON:\");\n",
       "        console.log(nbJson);\n",
       "\n",
       "        function jvnLog (data) {\n",
       "          console.log(\"Result from jovian.commit:\");\n",
       "          if (data.content.text) {\n",
       "              var result = JSON.parse(data.content.text.trim());\n",
       "              var msg = result['msg'];\n",
       "              var err = result['err'];\n",
       "              if (msg) {\n",
       "                  element.text(\"Committed successfully: \" + msg)\n",
       "              } else {\n",
       "                  alert(\"Notebook commit failed. Error: \" + (err || \"Unknown\"))\n",
       "              }\n",
       "          }\n",
       "          \n",
       "        };\n",
       "        \n",
       "        var pythonCode = `\n",
       "from contextlib import redirect_stdout, redirect_stderr\n",
       "from io import StringIO\n",
       "import json\n",
       " \n",
       "with open(\"indian-air quality analysis.ipynb\", 'w') as f:\n",
       "    f.write(r\"\"\"${nbJson}\"\"\")\n",
       "\n",
       "jvn_update = StringIO()\n",
       "jvn_update_err = StringIO()\n",
       "with redirect_stdout(jvn_update), redirect_stderr(jvn_update_err):\n",
       "    from jovian import commit\n",
       "\n",
       "jvn_f_out = StringIO()\n",
       "jvn_f_err = StringIO()\n",
       "with redirect_stdout(jvn_f_out), redirect_stderr(jvn_f_err):\n",
       "    jvn_msg = jovian.commit(message=None, files=[], outputs=[], environment='auto', privacy='auto', filename='indian-air quality analysis.ipynb', project='indian-air quality analysis', new_project=None)\n",
       "\n",
       "print(json.dumps({'msg': jvn_msg, 'err': jvn_f_err.getvalue(), 'update': jvn_update.getvalue()}))\n",
       "        `;\n",
       "\n",
       "        console.log(\"Invoking jovian.commit\")\n",
       "        // console.log(pythonCode)\n",
       "\n",
       "        Jupyter.notebook.kernel.execute(pythonCode, { iopub: { output: jvnLog }});\n",
       "    });"
      ],
      "text/plain": [
       "<IPython.core.display.Javascript object>"
      ]
     },
     "metadata": {},
     "output_type": "display_data"
    }
   ],
   "source": [
    "jovian.commit(project = project)"
   ]
  },
  {
   "cell_type": "markdown",
   "metadata": {},
   "source": [
    "## Exploratory Analysis and Visualization\n",
    "\n",
    "Let's begin by importing `matplotlib.pyplot` and `seaborn`. We should start with some preliminary visualisations, starting foremost with those of the pollutants"
   ]
  },
  {
   "cell_type": "code",
   "execution_count": 45,
   "metadata": {},
   "outputs": [],
   "source": [
    "import seaborn as sns"
   ]
  },
  {
   "cell_type": "markdown",
   "metadata": {},
   "source": [
    "    Making subplots for emmissions data.\n",
    "\n"
   ]
  },
  {
   "cell_type": "code",
   "execution_count": 46,
   "metadata": {},
   "outputs": [
    {
     "data": {
      "text/plain": [
       "<matplotlib.axes._subplots.AxesSubplot at 0x7f90dc4c8390>"
      ]
     },
     "execution_count": 46,
     "metadata": {},
     "output_type": "execute_result"
    },
    {
     "data": {
      "image/png": "[encoded data removed]",
      "text/plain": [
       "<Figure size 864x576 with 4 Axes>"
      ]
     },
     "metadata": {
      "needs_background": "light"
     },
     "output_type": "display_data"
    }
   ],
   "source": [
    "fig, axarr = plt.subplots(2, 2, figsize=(12, 8))\n",
    "sns.distplot(df['no2'],hist=True,kde=True,\n",
    "             color='darkblue',\n",
    "             hist_kws={'edgecolor':'black'},\n",
    "             kde_kws={'linewidth':4},\n",
    "             ax=axarr[0][0])\n",
    "\n",
    "sns.distplot(df['so2'],hist=True,kde=True,\n",
    "             color='red',\n",
    "             hist_kws={'edgecolor':'black'},\n",
    "             kde_kws={'linewidth':4},\n",
    "             ax=axarr[0][1])\n",
    "\n",
    "sns.distplot(df['rspm'],hist=True,kde=True,\n",
    "             color='green',\n",
    "             hist_kws={'edgecolor':'black'},\n",
    "             kde_kws={'linewidth':4},\n",
    "             ax=axarr[1][0])\n",
    "\n",
    "sns.distplot(df['spm'],hist=True,kde=True,\n",
    "             color='black',\n",
    "             hist_kws={'edgecolor':'black'},\n",
    "             kde_kws={'linewidth':4},\n",
    "             ax=axarr[1][1])"
   ]
  },
  {
   "cell_type": "code",
   "execution_count": 47,
   "metadata": {},
   "outputs": [
    {
     "data": {
      "text/plain": [
       "<matplotlib.axes._subplots.AxesSubplot at 0x7f90dc1bf910>"
      ]
     },
     "execution_count": 47,
     "metadata": {},
     "output_type": "execute_result"
    },
    {
     "data": {
      "image/png": "[encoded data removed]",
      "text/plain": [
       "<Figure size 432x288 with 2 Axes>"
      ]
     },
     "metadata": {
      "needs_background": "light"
     },
     "output_type": "display_data"
    }
   ],
   "source": [
    "sns.heatmap(\n",
    "    df.loc[:, ['state','so2', 'no2', 'rspm', 'spm', 'pm2_5']].corr(),\n",
    "    annot=True\n",
    ")"
   ]
  },
  {
   "cell_type": "markdown",
   "metadata": {},
   "source": [
    "Interesting outcome. From the correlations, spm and rspm show a high value, followed by that of rspm and NO2."
   ]
  },
  {
   "cell_type": "markdown",
   "metadata": {},
   "source": [
    "\n",
    "#  **Grouping the emmissions by state.**\n",
    "\n",
    "Let us look at the emmissions by making stateiwse grouping. We have used 'groupby' on the dataset and store it in another DataFrame statewise_emmissions.\n",
    "\n"
   ]
  },
  {
   "cell_type": "code",
   "execution_count": 48,
   "metadata": {},
   "outputs": [
    {
     "data": {
      "text/plain": [
       "<matplotlib.axes._subplots.AxesSubplot at 0x7f90dc0dfd10>"
      ]
     },
     "execution_count": 48,
     "metadata": {},
     "output_type": "execute_result"
    },
    {
     "data": {
      "image/png": "[encoded data removed]",
      "text/plain": [
       "<Figure size 432x288 with 1 Axes>"
      ]
     },
     "metadata": {
      "needs_background": "light"
     },
     "output_type": "display_data"
    }
   ],
   "source": [
    "statewise_emmissions = df.groupby('state').mean()[['so2', 'no2', 'rspm', 'spm', 'pm2_5']]\n",
    "statewise_emmissions.plot.area()"
   ]
  },
  {
   "cell_type": "markdown",
   "metadata": {},
   "source": [
    "\n",
    "\n",
    "**The highest emmissions are for spm, for each of the states.\n"
   ]
  },
  {
   "cell_type": "markdown",
   "metadata": {},
   "source": [
    "\n",
    "\n",
    "    Getting the statistics for highest emmissions, when grouped statewise.\n",
    "\n"
   ]
  },
  {
   "cell_type": "code",
   "execution_count": 49,
   "metadata": {},
   "outputs": [
    {
     "data": {
      "text/html": [
       "<div>\n",
       "<style scoped>\n",
       "    .dataframe tbody tr th:only-of-type {\n",
       "        vertical-align: middle;\n",
       "    }\n",
       "\n",
       "    .dataframe tbody tr th {\n",
       "        vertical-align: top;\n",
       "    }\n",
       "\n",
       "    .dataframe thead th {\n",
       "        text-align: right;\n",
       "    }\n",
       "</style>\n",
       "<table border=\"1\" class=\"dataframe\">\n",
       "  <thead>\n",
       "    <tr style=\"text-align: right;\">\n",
       "      <th></th>\n",
       "      <th>so2</th>\n",
       "      <th>no2</th>\n",
       "      <th>rspm</th>\n",
       "      <th>spm</th>\n",
       "      <th>pm2_5</th>\n",
       "    </tr>\n",
       "  </thead>\n",
       "  <tbody>\n",
       "    <tr>\n",
       "      <th>count</th>\n",
       "      <td>37.000000</td>\n",
       "      <td>37.000000</td>\n",
       "      <td>37.000000</td>\n",
       "      <td>37.000000</td>\n",
       "      <td>37.000000</td>\n",
       "    </tr>\n",
       "    <tr>\n",
       "      <th>mean</th>\n",
       "      <td>10.834792</td>\n",
       "      <td>23.431668</td>\n",
       "      <td>101.593288</td>\n",
       "      <td>210.929962</td>\n",
       "      <td>40.705551</td>\n",
       "    </tr>\n",
       "    <tr>\n",
       "      <th>std</th>\n",
       "      <td>5.125288</td>\n",
       "      <td>10.747456</td>\n",
       "      <td>35.590723</td>\n",
       "      <td>46.301498</td>\n",
       "      <td>0.963178</td>\n",
       "    </tr>\n",
       "    <tr>\n",
       "      <th>min</th>\n",
       "      <td>3.695303</td>\n",
       "      <td>8.531134</td>\n",
       "      <td>32.000000</td>\n",
       "      <td>75.000000</td>\n",
       "      <td>35.878344</td>\n",
       "    </tr>\n",
       "    <tr>\n",
       "      <th>25%</th>\n",
       "      <td>7.239967</td>\n",
       "      <td>15.891551</td>\n",
       "      <td>79.507951</td>\n",
       "      <td>187.344003</td>\n",
       "      <td>40.791467</td>\n",
       "    </tr>\n",
       "    <tr>\n",
       "      <th>50%</th>\n",
       "      <td>10.257348</td>\n",
       "      <td>22.781418</td>\n",
       "      <td>97.130375</td>\n",
       "      <td>215.037496</td>\n",
       "      <td>40.791467</td>\n",
       "    </tr>\n",
       "    <tr>\n",
       "      <th>75%</th>\n",
       "      <td>12.517750</td>\n",
       "      <td>26.800000</td>\n",
       "      <td>117.547025</td>\n",
       "      <td>226.072782</td>\n",
       "      <td>40.791467</td>\n",
       "    </tr>\n",
       "    <tr>\n",
       "      <th>max</th>\n",
       "      <td>23.724520</td>\n",
       "      <td>58.852111</td>\n",
       "      <td>177.293687</td>\n",
       "      <td>334.814468</td>\n",
       "      <td>43.148310</td>\n",
       "    </tr>\n",
       "  </tbody>\n",
       "</table>\n",
       "</div>"
      ],
      "text/plain": [
       "             so2        no2        rspm         spm      pm2_5\n",
       "count  37.000000  37.000000   37.000000   37.000000  37.000000\n",
       "mean   10.834792  23.431668  101.593288  210.929962  40.705551\n",
       "std     5.125288  10.747456   35.590723   46.301498   0.963178\n",
       "min     3.695303   8.531134   32.000000   75.000000  35.878344\n",
       "25%     7.239967  15.891551   79.507951  187.344003  40.791467\n",
       "50%    10.257348  22.781418   97.130375  215.037496  40.791467\n",
       "75%    12.517750  26.800000  117.547025  226.072782  40.791467\n",
       "max    23.724520  58.852111  177.293687  334.814468  43.148310"
      ]
     },
     "execution_count": 49,
     "metadata": {},
     "output_type": "execute_result"
    }
   ],
   "source": [
    "statewise_emmissions.describe()"
   ]
  },
  {
   "cell_type": "markdown",
   "metadata": {},
   "source": [
    "**Visualising the emmissions according to the type and getting the relevant statistics**"
   ]
  },
  {
   "cell_type": "code",
   "execution_count": 50,
   "metadata": {},
   "outputs": [
    {
     "data": {
      "text/html": [
       "<div>\n",
       "<style scoped>\n",
       "    .dataframe tbody tr th:only-of-type {\n",
       "        vertical-align: middle;\n",
       "    }\n",
       "\n",
       "    .dataframe tbody tr th {\n",
       "        vertical-align: top;\n",
       "    }\n",
       "\n",
       "    .dataframe thead th {\n",
       "        text-align: right;\n",
       "    }\n",
       "</style>\n",
       "<table border=\"1\" class=\"dataframe\">\n",
       "  <thead>\n",
       "    <tr style=\"text-align: right;\">\n",
       "      <th></th>\n",
       "      <th>so2</th>\n",
       "      <th>no2</th>\n",
       "      <th>rspm</th>\n",
       "      <th>spm</th>\n",
       "      <th>pm2_5</th>\n",
       "    </tr>\n",
       "    <tr>\n",
       "      <th>type</th>\n",
       "      <th></th>\n",
       "      <th></th>\n",
       "      <th></th>\n",
       "      <th></th>\n",
       "      <th></th>\n",
       "    </tr>\n",
       "  </thead>\n",
       "  <tbody>\n",
       "    <tr>\n",
       "      <th>Industrial</th>\n",
       "      <td>23.632492</td>\n",
       "      <td>35.795214</td>\n",
       "      <td>108.832784</td>\n",
       "      <td>300.487057</td>\n",
       "      <td>40.791467</td>\n",
       "    </tr>\n",
       "    <tr>\n",
       "      <th>Industrial Area</th>\n",
       "      <td>13.121105</td>\n",
       "      <td>29.088317</td>\n",
       "      <td>119.966564</td>\n",
       "      <td>222.293673</td>\n",
       "      <td>40.881833</td>\n",
       "    </tr>\n",
       "    <tr>\n",
       "      <th>Industrial Areas</th>\n",
       "      <td>13.372831</td>\n",
       "      <td>29.737634</td>\n",
       "      <td>121.899020</td>\n",
       "      <td>246.368405</td>\n",
       "      <td>40.791467</td>\n",
       "    </tr>\n",
       "    <tr>\n",
       "      <th>RIRUO</th>\n",
       "      <td>10.912577</td>\n",
       "      <td>31.779908</td>\n",
       "      <td>103.617331</td>\n",
       "      <td>220.783480</td>\n",
       "      <td>39.474997</td>\n",
       "    </tr>\n",
       "    <tr>\n",
       "      <th>Residential</th>\n",
       "      <td>13.835891</td>\n",
       "      <td>21.331916</td>\n",
       "      <td>108.832784</td>\n",
       "      <td>272.668993</td>\n",
       "      <td>40.791467</td>\n",
       "    </tr>\n",
       "  </tbody>\n",
       "</table>\n",
       "</div>"
      ],
      "text/plain": [
       "                        so2        no2        rspm         spm      pm2_5\n",
       "type                                                                     \n",
       "Industrial        23.632492  35.795214  108.832784  300.487057  40.791467\n",
       "Industrial Area   13.121105  29.088317  119.966564  222.293673  40.881833\n",
       "Industrial Areas  13.372831  29.737634  121.899020  246.368405  40.791467\n",
       "RIRUO             10.912577  31.779908  103.617331  220.783480  39.474997\n",
       "Residential       13.835891  21.331916  108.832784  272.668993  40.791467"
      ]
     },
     "execution_count": 50,
     "metadata": {},
     "output_type": "execute_result"
    }
   ],
   "source": [
    "\n",
    "type_emmissions=df.groupby('type').mean()[['so2','no2','rspm','spm','pm2_5']]\n",
    "type_emmissions.head()"
   ]
  },
  {
   "cell_type": "code",
   "execution_count": 51,
   "metadata": {},
   "outputs": [
    {
     "data": {
      "image/png": "[encoded data removed]",
      "text/plain": [
       "<Figure size 1296x1008 with 4 Axes>"
      ]
     },
     "metadata": {
      "needs_background": "light"
     },
     "output_type": "display_data"
    }
   ],
   "source": [
    "fig, axes = plt.subplots(nrows=2, ncols=2,figsize=(18,14))\n",
    "ax = sns.barplot(\"so2\", y=\"type\",\n",
    "                 data=df,\n",
    "                 ax=axes[0,0]\n",
    "                )\n",
    "ax = sns.barplot(\"no2\", y=\"type\",\n",
    "                 data=df,\n",
    "                 ax=axes[0,1]\n",
    "                )\n",
    "ax = sns.barplot(\"rspm\", y=\"type\",\n",
    "                 data=df,\n",
    "                 ax=axes[1,0]\n",
    "                )\n",
    "ax = sns.barplot(\"spm\", y=\"type\",\n",
    "                 data=df,\n",
    "                 ax=axes[1,1]\n",
    "                )"
   ]
  },
  {
   "cell_type": "markdown",
   "metadata": {},
   "source": [
    "Largely it is the Industrial affluents that contribute highest percentage of all the pollutants in India.\n",
    "\n"
   ]
  },
  {
   "cell_type": "markdown",
   "metadata": {},
   "source": [
    "#  Understanding the emmissions with time"
   ]
  },
  {
   "cell_type": "code",
   "execution_count": 52,
   "metadata": {},
   "outputs": [
    {
     "data": {
      "text/plain": [
       "count         435735\n",
       "unique          5067\n",
       "top       2015-03-19\n",
       "freq             253\n",
       "Name: date, dtype: object"
      ]
     },
     "execution_count": 52,
     "metadata": {},
     "output_type": "execute_result"
    }
   ],
   "source": [
    "df['date'].describe()"
   ]
  },
  {
   "cell_type": "markdown",
   "metadata": {},
   "source": [
    "There are exactly seven missing date values and as we can see there are multiple measurements for the same date.\n",
    "While dropping the missing dates might seem easiest, we might loose out on some important information.\n",
    "\n",
    "        Therefore, we will fix this by filling in the missing values by the most frequent values.\n",
    "\n"
   ]
  },
  {
   "cell_type": "code",
   "execution_count": 53,
   "metadata": {},
   "outputs": [
    {
     "data": {
      "text/html": [
       "<div>\n",
       "<style scoped>\n",
       "    .dataframe tbody tr th:only-of-type {\n",
       "        vertical-align: middle;\n",
       "    }\n",
       "\n",
       "    .dataframe tbody tr th {\n",
       "        vertical-align: top;\n",
       "    }\n",
       "\n",
       "    .dataframe thead th {\n",
       "        text-align: right;\n",
       "    }\n",
       "</style>\n",
       "<table border=\"1\" class=\"dataframe\">\n",
       "  <thead>\n",
       "    <tr style=\"text-align: right;\">\n",
       "      <th></th>\n",
       "      <th>state</th>\n",
       "      <th>location</th>\n",
       "      <th>type</th>\n",
       "      <th>so2</th>\n",
       "      <th>no2</th>\n",
       "      <th>rspm</th>\n",
       "      <th>spm</th>\n",
       "      <th>pm2_5</th>\n",
       "      <th>date</th>\n",
       "    </tr>\n",
       "  </thead>\n",
       "  <tbody>\n",
       "    <tr>\n",
       "      <th>435737</th>\n",
       "      <td>West Bengal</td>\n",
       "      <td>ULUBERIA</td>\n",
       "      <td>RIRUO</td>\n",
       "      <td>22.000000</td>\n",
       "      <td>50.000000</td>\n",
       "      <td>143.000000</td>\n",
       "      <td>220.78348</td>\n",
       "      <td>40.791467</td>\n",
       "      <td>2015-12-24</td>\n",
       "    </tr>\n",
       "    <tr>\n",
       "      <th>435738</th>\n",
       "      <td>West Bengal</td>\n",
       "      <td>ULUBERIA</td>\n",
       "      <td>RIRUO</td>\n",
       "      <td>20.000000</td>\n",
       "      <td>46.000000</td>\n",
       "      <td>171.000000</td>\n",
       "      <td>220.78348</td>\n",
       "      <td>40.791467</td>\n",
       "      <td>2015-12-29</td>\n",
       "    </tr>\n",
       "    <tr>\n",
       "      <th>435739</th>\n",
       "      <td>andaman-and-nicobar-islands</td>\n",
       "      <td>NaN</td>\n",
       "      <td>Residential,Rural and other Areas</td>\n",
       "      <td>10.829414</td>\n",
       "      <td>25.809623</td>\n",
       "      <td>108.832784</td>\n",
       "      <td>220.78348</td>\n",
       "      <td>40.791467</td>\n",
       "      <td>2015-03-19</td>\n",
       "    </tr>\n",
       "    <tr>\n",
       "      <th>435740</th>\n",
       "      <td>Lakshadweep</td>\n",
       "      <td>NaN</td>\n",
       "      <td>Residential,Rural and other Areas</td>\n",
       "      <td>10.829414</td>\n",
       "      <td>25.809623</td>\n",
       "      <td>108.832784</td>\n",
       "      <td>220.78348</td>\n",
       "      <td>40.791467</td>\n",
       "      <td>2015-03-19</td>\n",
       "    </tr>\n",
       "    <tr>\n",
       "      <th>435741</th>\n",
       "      <td>Tripura</td>\n",
       "      <td>NaN</td>\n",
       "      <td>Residential,Rural and other Areas</td>\n",
       "      <td>10.829414</td>\n",
       "      <td>25.809623</td>\n",
       "      <td>108.832784</td>\n",
       "      <td>220.78348</td>\n",
       "      <td>40.791467</td>\n",
       "      <td>2015-03-19</td>\n",
       "    </tr>\n",
       "  </tbody>\n",
       "</table>\n",
       "</div>"
      ],
      "text/plain": [
       "                              state  location  \\\n",
       "435737                  West Bengal  ULUBERIA   \n",
       "435738                  West Bengal  ULUBERIA   \n",
       "435739  andaman-and-nicobar-islands       NaN   \n",
       "435740                  Lakshadweep       NaN   \n",
       "435741                      Tripura       NaN   \n",
       "\n",
       "                                     type        so2        no2        rspm  \\\n",
       "435737                              RIRUO  22.000000  50.000000  143.000000   \n",
       "435738                              RIRUO  20.000000  46.000000  171.000000   \n",
       "435739  Residential,Rural and other Areas  10.829414  25.809623  108.832784   \n",
       "435740  Residential,Rural and other Areas  10.829414  25.809623  108.832784   \n",
       "435741  Residential,Rural and other Areas  10.829414  25.809623  108.832784   \n",
       "\n",
       "              spm      pm2_5        date  \n",
       "435737  220.78348  40.791467  2015-12-24  \n",
       "435738  220.78348  40.791467  2015-12-29  \n",
       "435739  220.78348  40.791467  2015-03-19  \n",
       "435740  220.78348  40.791467  2015-03-19  \n",
       "435741  220.78348  40.791467  2015-03-19  "
      ]
     },
     "execution_count": 53,
     "metadata": {},
     "output_type": "execute_result"
    }
   ],
   "source": [
    "df.head()\n",
    "common_value_date='2015-03-19'\n",
    "df['date']=df['date'].fillna(common_value_date)\n",
    "df.tail()\n",
    "\n"
   ]
  },
  {
   "cell_type": "markdown",
   "metadata": {},
   "source": [
    "\n",
    "\n",
    "    Visualising the Emmissions over the years, by grouping the dataset datewise and creating a new DataFrame for each of the five listed pollutants.\n",
    "\n"
   ]
  },
  {
   "cell_type": "code",
   "execution_count": 54,
   "metadata": {},
   "outputs": [],
   "source": [
    "datewise_emmissions_SO2=df.groupby('date').mean()['so2']\n",
    "datewise_emmissions_NO2=df.groupby('date').mean()['no2']\n",
    "datewise_emmissions_rspm=df.groupby('date').mean()['rspm']\n",
    "datewise_emmissions_spm=df.groupby('date').mean()['spm']\n",
    "\n"
   ]
  },
  {
   "cell_type": "code",
   "execution_count": 55,
   "metadata": {},
   "outputs": [
    {
     "data": {
      "text/plain": [
       "<matplotlib.axes._subplots.AxesSubplot at 0x7f90d7d3ae50>"
      ]
     },
     "execution_count": 55,
     "metadata": {},
     "output_type": "execute_result"
    },
    {
     "data": {
      "image/png": "[encoded data removed]",
      "text/plain": [
       "<Figure size 1008x720 with 4 Axes>"
      ]
     },
     "metadata": {
      "needs_background": "light"
     },
     "output_type": "display_data"
    }
   ],
   "source": [
    "fig, axes = plt.subplots(nrows=2, ncols=2,figsize=(14,10))\n",
    "datewise_emmissions_SO2.plot(style='k.',legend=True,ax=axes[0,0])\n",
    "datewise_emmissions_NO2.plot(style='b.',legend=True,ax=axes[0,1])\n",
    "datewise_emmissions_rspm.plot(style='r.',legend=True,ax=axes[1,0])\n",
    "datewise_emmissions_spm.plot(style='g.', legend=True,ax=axes[1,1])"
   ]
  },
  {
   "cell_type": "markdown",
   "metadata": {},
   "source": [
    "So2 emmissions it appears showed a lot of variable readings in the 1990's when the measurements started, but since, the emmissions have been localised within a range and even started showing slight downward trend lately.\n",
    "\n",
    "NO2 emmissions it appears shows higher variations in the emmissions readings across India.\n",
    "\n"
   ]
  },
  {
   "cell_type": "markdown",
   "metadata": {},
   "source": [
    "Let's save and upload our work before continuing."
   ]
  },
  {
   "cell_type": "code",
   "execution_count": 56,
   "metadata": {},
   "outputs": [],
   "source": [
    "import jovian"
   ]
  },
  {
   "cell_type": "code",
   "execution_count": 57,
   "metadata": {},
   "outputs": [
    {
     "data": {
      "application/javascript": [
       "window.require && require([\"base/js/namespace\"],function(Jupyter){Jupyter.notebook.save_checkpoint()})"
      ],
      "text/plain": [
       "<IPython.core.display.Javascript object>"
      ]
     },
     "metadata": {},
     "output_type": "display_data"
    },
    {
     "name": "stdout",
     "output_type": "stream",
     "text": [
      "[jovian] Attempting to save notebook..\u001b[0m\n",
      "[jovian] Detected Kaggle notebook...\u001b[0m\n",
      "[jovian] Uploading notebook to https://jovian.ml/harshadadesai007/indian-air quality analysis\u001b[0m\n"
     ]
    },
    {
     "data": {
      "application/javascript": [
       "\n",
       "    require([\"base/js/namespace\"],function(Jupyter) {\n",
       "        var nbJson = JSON.stringify(Jupyter.notebook.toJSON());\n",
       "\n",
       "        console.log(\"[jovian] Extracted notebook JSON:\");\n",
       "        console.log(nbJson);\n",
       "\n",
       "        function jvnLog (data) {\n",
       "          console.log(\"Result from jovian.commit:\");\n",
       "          if (data.content.text) {\n",
       "              var result = JSON.parse(data.content.text.trim());\n",
       "              var msg = result['msg'];\n",
       "              var err = result['err'];\n",
       "              if (msg) {\n",
       "                  element.text(\"Committed successfully: \" + msg)\n",
       "              } else {\n",
       "                  alert(\"Notebook commit failed. Error: \" + (err || \"Unknown\"))\n",
       "              }\n",
       "          }\n",
       "          \n",
       "        };\n",
       "        \n",
       "        var pythonCode = `\n",
       "from contextlib import redirect_stdout, redirect_stderr\n",
       "from io import StringIO\n",
       "import json\n",
       " \n",
       "with open(\"indian-air quality analysis.ipynb\", 'w') as f:\n",
       "    f.write(r\"\"\"${nbJson}\"\"\")\n",
       "\n",
       "jvn_update = StringIO()\n",
       "jvn_update_err = StringIO()\n",
       "with redirect_stdout(jvn_update), redirect_stderr(jvn_update_err):\n",
       "    from jovian import commit\n",
       "\n",
       "jvn_f_out = StringIO()\n",
       "jvn_f_err = StringIO()\n",
       "with redirect_stdout(jvn_f_out), redirect_stderr(jvn_f_err):\n",
       "    jvn_msg = jovian.commit(message=None, files=[], outputs=[], environment='auto', privacy='auto', filename='indian-air quality analysis.ipynb', project='indian-air quality analysis', new_project=None)\n",
       "\n",
       "print(json.dumps({'msg': jvn_msg, 'err': jvn_f_err.getvalue(), 'update': jvn_update.getvalue()}))\n",
       "        `;\n",
       "\n",
       "        console.log(\"Invoking jovian.commit\")\n",
       "        // console.log(pythonCode)\n",
       "\n",
       "        Jupyter.notebook.kernel.execute(pythonCode, { iopub: { output: jvnLog }});\n",
       "    });"
      ],
      "text/plain": [
       "<IPython.core.display.Javascript object>"
      ]
     },
     "metadata": {},
     "output_type": "display_data"
    }
   ],
   "source": [
    "jovian.commit(project = project)"
   ]
  },
  {
   "cell_type": "markdown",
   "metadata": {},
   "source": [
    "## Asking and Answering Questions\n",
    "\n",
    "We've already gained several insights about the respondents and the programming community in general, simply by exploring individual columns of the dataset. Let's ask some specific questions, and try to answer them using data frame operations and interesting visualizations."
   ]
  },
  {
   "cell_type": "markdown",
   "metadata": {},
   "source": [
    "Q1)Find the states which show highest emmissions of NO2."
   ]
  },
  {
   "cell_type": "code",
   "execution_count": 58,
   "metadata": {},
   "outputs": [
    {
     "data": {
      "text/html": [
       "<div>\n",
       "<style scoped>\n",
       "    .dataframe tbody tr th:only-of-type {\n",
       "        vertical-align: middle;\n",
       "    }\n",
       "\n",
       "    .dataframe tbody tr th {\n",
       "        vertical-align: top;\n",
       "    }\n",
       "\n",
       "    .dataframe thead th {\n",
       "        text-align: right;\n",
       "    }\n",
       "</style>\n",
       "<table border=\"1\" class=\"dataframe\">\n",
       "  <thead>\n",
       "    <tr style=\"text-align: right;\">\n",
       "      <th></th>\n",
       "      <th>no2</th>\n",
       "    </tr>\n",
       "    <tr>\n",
       "      <th>state</th>\n",
       "      <th></th>\n",
       "    </tr>\n",
       "  </thead>\n",
       "  <tbody>\n",
       "    <tr>\n",
       "      <th>West Bengal</th>\n",
       "      <td>58.852111</td>\n",
       "    </tr>\n",
       "    <tr>\n",
       "      <th>Delhi</th>\n",
       "      <td>51.728223</td>\n",
       "    </tr>\n",
       "    <tr>\n",
       "      <th>Jharkhand</th>\n",
       "      <td>42.975080</td>\n",
       "    </tr>\n",
       "    <tr>\n",
       "      <th>Bihar</th>\n",
       "      <td>36.173283</td>\n",
       "    </tr>\n",
       "    <tr>\n",
       "      <th>Maharashtra</th>\n",
       "      <td>31.988282</td>\n",
       "    </tr>\n",
       "  </tbody>\n",
       "</table>\n",
       "</div>"
      ],
      "text/plain": [
       "                   no2\n",
       "state                 \n",
       "West Bengal  58.852111\n",
       "Delhi        51.728223\n",
       "Jharkhand    42.975080\n",
       "Bihar        36.173283\n",
       "Maharashtra  31.988282"
      ]
     },
     "execution_count": 58,
     "metadata": {},
     "output_type": "execute_result"
    }
   ],
   "source": [
    "Top10States_with_highest_No2=statewise_emmissions.sort_values(by='no2',ascending=False).head(10)\n",
    "Top10States_with_highest_No2_sorted=Top10States_with_highest_No2.loc[:,['no2']]\n",
    "Top10States_with_highest_No2_sorted.head()"
   ]
  },
  {
   "cell_type": "markdown",
   "metadata": {},
   "source": [
    "West Bengal and Delhi show the highest NO2 emmissions over the years."
   ]
  },
  {
   "cell_type": "markdown",
   "metadata": {},
   "source": [
    "Q2)Find the states which show highest emmissions of rspm."
   ]
  },
  {
   "cell_type": "code",
   "execution_count": 59,
   "metadata": {},
   "outputs": [
    {
     "data": {
      "text/html": [
       "<div>\n",
       "<style scoped>\n",
       "    .dataframe tbody tr th:only-of-type {\n",
       "        vertical-align: middle;\n",
       "    }\n",
       "\n",
       "    .dataframe tbody tr th {\n",
       "        vertical-align: top;\n",
       "    }\n",
       "\n",
       "    .dataframe thead th {\n",
       "        text-align: right;\n",
       "    }\n",
       "</style>\n",
       "<table border=\"1\" class=\"dataframe\">\n",
       "  <thead>\n",
       "    <tr style=\"text-align: right;\">\n",
       "      <th></th>\n",
       "      <th>rspm</th>\n",
       "    </tr>\n",
       "    <tr>\n",
       "      <th>state</th>\n",
       "      <th></th>\n",
       "    </tr>\n",
       "  </thead>\n",
       "  <tbody>\n",
       "    <tr>\n",
       "      <th>West Bengal</th>\n",
       "      <td>114.717160</td>\n",
       "    </tr>\n",
       "    <tr>\n",
       "      <th>Delhi</th>\n",
       "      <td>177.293687</td>\n",
       "    </tr>\n",
       "    <tr>\n",
       "      <th>Jharkhand</th>\n",
       "      <td>167.607687</td>\n",
       "    </tr>\n",
       "    <tr>\n",
       "      <th>Bihar</th>\n",
       "      <td>117.547025</td>\n",
       "    </tr>\n",
       "    <tr>\n",
       "      <th>Maharashtra</th>\n",
       "      <td>102.081778</td>\n",
       "    </tr>\n",
       "  </tbody>\n",
       "</table>\n",
       "</div>"
      ],
      "text/plain": [
       "                   rspm\n",
       "state                  \n",
       "West Bengal  114.717160\n",
       "Delhi        177.293687\n",
       "Jharkhand    167.607687\n",
       "Bihar        117.547025\n",
       "Maharashtra  102.081778"
      ]
     },
     "execution_count": 59,
     "metadata": {},
     "output_type": "execute_result"
    }
   ],
   "source": [
    "Top10States_with_highest_rspm=statewise_emmissions.sort_values(by='rspm',ascending=False).head(10)\n",
    "Top10States_with_highest_rspm_sorted=Top10States_with_highest_No2.loc[:,['rspm']]\n",
    "Top10States_with_highest_rspm_sorted.head()"
   ]
  },
  {
   "cell_type": "markdown",
   "metadata": {},
   "source": [
    "It can be seen that Delhi and Uttar Pradesh show highest emmission of rspm."
   ]
  },
  {
   "cell_type": "markdown",
   "metadata": {},
   "source": [
    "Q3) Which states showed lowest emmission of NO2?"
   ]
  },
  {
   "cell_type": "code",
   "execution_count": 60,
   "metadata": {},
   "outputs": [
    {
     "data": {
      "text/html": [
       "<div>\n",
       "<style scoped>\n",
       "    .dataframe tbody tr th:only-of-type {\n",
       "        vertical-align: middle;\n",
       "    }\n",
       "\n",
       "    .dataframe tbody tr th {\n",
       "        vertical-align: top;\n",
       "    }\n",
       "\n",
       "    .dataframe thead th {\n",
       "        text-align: right;\n",
       "    }\n",
       "</style>\n",
       "<table border=\"1\" class=\"dataframe\">\n",
       "  <thead>\n",
       "    <tr style=\"text-align: right;\">\n",
       "      <th></th>\n",
       "      <th>no2</th>\n",
       "    </tr>\n",
       "    <tr>\n",
       "      <th>state</th>\n",
       "      <th></th>\n",
       "    </tr>\n",
       "  </thead>\n",
       "  <tbody>\n",
       "    <tr>\n",
       "      <th>Mizoram</th>\n",
       "      <td>8.531134</td>\n",
       "    </tr>\n",
       "    <tr>\n",
       "      <th>Nagaland</th>\n",
       "      <td>10.467137</td>\n",
       "    </tr>\n",
       "    <tr>\n",
       "      <th>Arunachal Pradesh</th>\n",
       "      <td>10.893677</td>\n",
       "    </tr>\n",
       "    <tr>\n",
       "      <th>Meghalaya</th>\n",
       "      <td>11.843232</td>\n",
       "    </tr>\n",
       "    <tr>\n",
       "      <th>Jammu &amp; Kashmir</th>\n",
       "      <td>12.445238</td>\n",
       "    </tr>\n",
       "  </tbody>\n",
       "</table>\n",
       "</div>"
      ],
      "text/plain": [
       "                         no2\n",
       "state                       \n",
       "Mizoram             8.531134\n",
       "Nagaland           10.467137\n",
       "Arunachal Pradesh  10.893677\n",
       "Meghalaya          11.843232\n",
       "Jammu & Kashmir    12.445238"
      ]
     },
     "execution_count": 60,
     "metadata": {},
     "output_type": "execute_result"
    }
   ],
   "source": [
    "Lowest_emission_NO2=statewise_emmissions.sort_values(by='no2').head()\n",
    "Lowest_emission_NO2_sorted=Lowest_emission_NO2.loc[:,['no2']]\n",
    "Lowest_emission_NO2_sorted.head()"
   ]
  },
  {
   "cell_type": "markdown",
   "metadata": {},
   "source": [
    "Let's save and commit our work before continuing"
   ]
  },
  {
   "cell_type": "markdown",
   "metadata": {},
   "source": [
    "Q4) What was the mean emmission of SO2 in 2015?"
   ]
  },
  {
   "cell_type": "code",
   "execution_count": 61,
   "metadata": {},
   "outputs": [
    {
     "data": {
      "text/html": [
       "<div>\n",
       "<style scoped>\n",
       "    .dataframe tbody tr th:only-of-type {\n",
       "        vertical-align: middle;\n",
       "    }\n",
       "\n",
       "    .dataframe tbody tr th {\n",
       "        vertical-align: top;\n",
       "    }\n",
       "\n",
       "    .dataframe thead th {\n",
       "        text-align: right;\n",
       "    }\n",
       "</style>\n",
       "<table border=\"1\" class=\"dataframe\">\n",
       "  <thead>\n",
       "    <tr style=\"text-align: right;\">\n",
       "      <th></th>\n",
       "      <th>state</th>\n",
       "      <th>location</th>\n",
       "      <th>type</th>\n",
       "      <th>so2</th>\n",
       "      <th>no2</th>\n",
       "      <th>rspm</th>\n",
       "      <th>spm</th>\n",
       "      <th>pm2_5</th>\n",
       "      <th>date</th>\n",
       "      <th>year</th>\n",
       "    </tr>\n",
       "  </thead>\n",
       "  <tbody>\n",
       "    <tr>\n",
       "      <th>0</th>\n",
       "      <td>Andhra Pradesh</td>\n",
       "      <td>Hyderabad</td>\n",
       "      <td>Residential, Rural and other Areas</td>\n",
       "      <td>4.8</td>\n",
       "      <td>17.4</td>\n",
       "      <td>108.832784</td>\n",
       "      <td>220.78348</td>\n",
       "      <td>40.791467</td>\n",
       "      <td>1990-02-01</td>\n",
       "      <td>1990</td>\n",
       "    </tr>\n",
       "    <tr>\n",
       "      <th>1</th>\n",
       "      <td>Andhra Pradesh</td>\n",
       "      <td>Hyderabad</td>\n",
       "      <td>Industrial Area</td>\n",
       "      <td>3.1</td>\n",
       "      <td>7.0</td>\n",
       "      <td>108.832784</td>\n",
       "      <td>220.78348</td>\n",
       "      <td>40.791467</td>\n",
       "      <td>1990-02-01</td>\n",
       "      <td>1990</td>\n",
       "    </tr>\n",
       "    <tr>\n",
       "      <th>2</th>\n",
       "      <td>Andhra Pradesh</td>\n",
       "      <td>Hyderabad</td>\n",
       "      <td>Residential, Rural and other Areas</td>\n",
       "      <td>6.2</td>\n",
       "      <td>28.5</td>\n",
       "      <td>108.832784</td>\n",
       "      <td>220.78348</td>\n",
       "      <td>40.791467</td>\n",
       "      <td>1990-02-01</td>\n",
       "      <td>1990</td>\n",
       "    </tr>\n",
       "    <tr>\n",
       "      <th>3</th>\n",
       "      <td>Andhra Pradesh</td>\n",
       "      <td>Hyderabad</td>\n",
       "      <td>Residential, Rural and other Areas</td>\n",
       "      <td>6.3</td>\n",
       "      <td>14.7</td>\n",
       "      <td>108.832784</td>\n",
       "      <td>220.78348</td>\n",
       "      <td>40.791467</td>\n",
       "      <td>1990-03-01</td>\n",
       "      <td>1990</td>\n",
       "    </tr>\n",
       "    <tr>\n",
       "      <th>4</th>\n",
       "      <td>Andhra Pradesh</td>\n",
       "      <td>Hyderabad</td>\n",
       "      <td>Industrial Area</td>\n",
       "      <td>4.7</td>\n",
       "      <td>7.5</td>\n",
       "      <td>108.832784</td>\n",
       "      <td>220.78348</td>\n",
       "      <td>40.791467</td>\n",
       "      <td>1990-03-01</td>\n",
       "      <td>1990</td>\n",
       "    </tr>\n",
       "  </tbody>\n",
       "</table>\n",
       "</div>"
      ],
      "text/plain": [
       "            state   location                                type  so2   no2  \\\n",
       "0  Andhra Pradesh  Hyderabad  Residential, Rural and other Areas  4.8  17.4   \n",
       "1  Andhra Pradesh  Hyderabad                     Industrial Area  3.1   7.0   \n",
       "2  Andhra Pradesh  Hyderabad  Residential, Rural and other Areas  6.2  28.5   \n",
       "3  Andhra Pradesh  Hyderabad  Residential, Rural and other Areas  6.3  14.7   \n",
       "4  Andhra Pradesh  Hyderabad                     Industrial Area  4.7   7.5   \n",
       "\n",
       "         rspm        spm      pm2_5        date  year  \n",
       "0  108.832784  220.78348  40.791467  1990-02-01  1990  \n",
       "1  108.832784  220.78348  40.791467  1990-02-01  1990  \n",
       "2  108.832784  220.78348  40.791467  1990-02-01  1990  \n",
       "3  108.832784  220.78348  40.791467  1990-03-01  1990  \n",
       "4  108.832784  220.78348  40.791467  1990-03-01  1990  "
      ]
     },
     "execution_count": 61,
     "metadata": {},
     "output_type": "execute_result"
    }
   ],
   "source": [
    "df['year'] = pd.DatetimeIndex(df['date']).year\n",
    "df.head()"
   ]
  },
  {
   "cell_type": "code",
   "execution_count": 62,
   "metadata": {},
   "outputs": [
    {
     "data": {
      "text/plain": [
       "8.483034394076332"
      ]
     },
     "execution_count": 62,
     "metadata": {},
     "output_type": "execute_result"
    }
   ],
   "source": [
    "df[df['year']==2015]['so2'].mean()"
   ]
  },
  {
   "cell_type": "markdown",
   "metadata": {},
   "source": [
    "Q5) Which year has the lowest pm2_5 emmision?"
   ]
  },
  {
   "cell_type": "code",
   "execution_count": 63,
   "metadata": {},
   "outputs": [
    {
     "data": {
      "text/plain": [
       "year\n",
       "2014    40.605412\n",
       "1991    40.791467\n",
       "1994    40.791467\n",
       "1990    40.791467\n",
       "1993    40.791467\n",
       "1992    40.791467\n",
       "1998    40.791467\n",
       "1995    40.791467\n",
       "1999    40.791467\n",
       "1987    40.791467\n",
       "2000    40.791467\n",
       "1997    40.791467\n",
       "1996    40.791467\n",
       "1988    40.791467\n",
       "2001    40.791467\n",
       "1989    40.791467\n",
       "2002    40.791467\n",
       "2003    40.791467\n",
       "2004    40.791467\n",
       "2005    40.791467\n",
       "2009    40.791467\n",
       "2006    40.791467\n",
       "2008    40.791467\n",
       "2007    40.791467\n",
       "2010    40.791467\n",
       "2012    40.791467\n",
       "2011    40.791467\n",
       "2013    40.791467\n",
       "2015    40.954929\n",
       "Name: pm2_5, dtype: float64"
      ]
     },
     "execution_count": 63,
     "metadata": {},
     "output_type": "execute_result"
    }
   ],
   "source": [
    "df.groupby('year')['pm2_5'].mean().sort_values()"
   ]
  },
  {
   "cell_type": "markdown",
   "metadata": {},
   "source": [
    "As we can see, 2014 is the year with minimum emission of pm2_5"
   ]
  },
  {
   "cell_type": "code",
   "execution_count": 66,
   "metadata": {},
   "outputs": [],
   "source": [
    "import jovian"
   ]
  },
  {
   "cell_type": "code",
   "execution_count": null,
   "metadata": {},
   "outputs": [
    {
     "data": {
      "application/javascript": [
       "window.require && require([\"base/js/namespace\"],function(Jupyter){Jupyter.notebook.save_checkpoint()})"
      ],
      "text/plain": [
       "<IPython.core.display.Javascript object>"
      ]
     },
     "metadata": {},
     "output_type": "display_data"
    },
    {
     "name": "stdout",
     "output_type": "stream",
     "text": [
      "[jovian] Attempting to save notebook..\u001b[0m\n",
      "[jovian] Detected Kaggle notebook...\u001b[0m\n",
      "[jovian] Uploading notebook to https://jovian.ml/harshadadesai007/indian-air quality analysis\u001b[0m\n"
     ]
    },
    {
     "data": {
      "application/javascript": [
       "\n",
       "    require([\"base/js/namespace\"],function(Jupyter) {\n",
       "        var nbJson = JSON.stringify(Jupyter.notebook.toJSON());\n",
       "\n",
       "        console.log(\"[jovian] Extracted notebook JSON:\");\n",
       "        console.log(nbJson);\n",
       "\n",
       "        function jvnLog (data) {\n",
       "          console.log(\"Result from jovian.commit:\");\n",
       "          if (data.content.text) {\n",
       "              var result = JSON.parse(data.content.text.trim());\n",
       "              var msg = result['msg'];\n",
       "              var err = result['err'];\n",
       "              if (msg) {\n",
       "                  element.text(\"Committed successfully: \" + msg)\n",
       "              } else {\n",
       "                  alert(\"Notebook commit failed. Error: \" + (err || \"Unknown\"))\n",
       "              }\n",
       "          }\n",
       "          \n",
       "        };\n",
       "        \n",
       "        var pythonCode = `\n",
       "from contextlib import redirect_stdout, redirect_stderr\n",
       "from io import StringIO\n",
       "import json\n",
       " \n",
       "with open(\"indian-air quality analysis.ipynb\", 'w') as f:\n",
       "    f.write(r\"\"\"${nbJson}\"\"\")\n",
       "\n",
       "jvn_update = StringIO()\n",
       "jvn_update_err = StringIO()\n",
       "with redirect_stdout(jvn_update), redirect_stderr(jvn_update_err):\n",
       "    from jovian import commit\n",
       "\n",
       "jvn_f_out = StringIO()\n",
       "jvn_f_err = StringIO()\n",
       "with redirect_stdout(jvn_f_out), redirect_stderr(jvn_f_err):\n",
       "    jvn_msg = jovian.commit(message=None, files=[], outputs=[], environment='auto', privacy='auto', filename='indian-air quality analysis.ipynb', project='indian-air quality analysis', new_project=None)\n",
       "\n",
       "print(json.dumps({'msg': jvn_msg, 'err': jvn_f_err.getvalue(), 'update': jvn_update.getvalue()}))\n",
       "        `;\n",
       "\n",
       "        console.log(\"Invoking jovian.commit\")\n",
       "        // console.log(pythonCode)\n",
       "\n",
       "        Jupyter.notebook.kernel.execute(pythonCode, { iopub: { output: jvnLog }});\n",
       "    });"
      ],
      "text/plain": [
       "<IPython.core.display.Javascript object>"
      ]
     },
     "metadata": {},
     "output_type": "display_data"
    }
   ],
   "source": [
    "jovian.commit(project=project)"
   ]
  },
  {
   "cell_type": "code",
   "execution_count": null,
   "metadata": {},
   "outputs": [],
   "source": []
  }
 ],
 "metadata": {
  "language_info": {
   "codemirror_mode": {
    "name": "ipython",
    "version": 3
   },
   "file_extension": ".py",
   "mimetype": "text/x-python",
   "name": "python",
   "nbconvert_exporter": "python",
   "pygments_lexer": "ipython3",
   "version": "3.7.6"
  }
 },
 "nbformat": 4,
 "nbformat_minor": 4
}